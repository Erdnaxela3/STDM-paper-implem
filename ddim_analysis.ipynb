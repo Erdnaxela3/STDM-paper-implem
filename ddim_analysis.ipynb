{
 "cells": [
  {
   "cell_type": "code",
   "metadata": {
    "jupyter": {
     "is_executing": true
    }
   },
   "source": [
    "import torch\n",
    "import glob"
   ],
   "outputs": [],
   "execution_count": null
  },
  {
   "cell_type": "code",
   "metadata": {},
   "source": [
    "analysis_dir = 'analysis'\n",
    "n = len(glob.glob(f'{analysis_dir}/artificial_mask_*.pt'))\n",
    "n_steps = len(glob.glob(f'{analysis_dir}/step_*.pt')) / n\n",
    "n_steps = int(n_steps)\n",
    "T = 50\n",
    "steps = torch.linspace(0, T - 1, n_steps).flip(0).round().long().tolist()\n",
    "steps"
   ],
   "outputs": [],
   "execution_count": null
  },
  {
   "cell_type": "code",
   "metadata": {},
   "source": [
    "def print_denoising_process(i: int, n_th_stock: int, n_th_period: int, steps: list[int], print_n_values: int = 10):\n",
    "    # Load tensors\n",
    "    mask = torch.load(f\"{analysis_dir}/artificial_mask_{i}.pt\", weights_only=False, map_location=\"cpu\")\n",
    "    fully_noise = torch.load(f\"{analysis_dir}/noised_{i}.pt\", weights_only=False, map_location=\"cpu\")\n",
    "    step = [\n",
    "        torch.load(f\"{analysis_dir}/step_{s}_{i}.pt\", weights_only=False, map_location=\"cpu\")\n",
    "        for s in steps\n",
    "    ]\n",
    "    original_data = torch.load(f\"{analysis_dir}/original_{i}.pt\", map_location=\"cpu\", weights_only=False)\n",
    "\n",
    "    # Extract relevant slices\n",
    "    mask_1 = mask[n_th_stock, n_th_period, :].bool()\n",
    "\n",
    "    def format_list(data):\n",
    "        return [float(f\"{x:.4f}\") for x in data[:print_n_values]]\n",
    "\n",
    "    # Print fully noised data\n",
    "    fully_noise_1 = fully_noise[n_th_stock, n_th_period, :][mask_1]\n",
    "    full_noise_diff = ((fully_noise - original_data) * mask)[n_th_stock, n_th_period, :][mask_1].abs().sum().item()\n",
    "    full_noise_mean_diff = ((fully_noise - original_data) * mask)[n_th_stock, n_th_period, :][mask_1].abs().mean().item()\n",
    "    print(f\"{format_list(fully_noise_1)}\\tFully noised (diff: {full_noise_diff:.2f}) (mean diff: {full_noise_mean_diff:.2f})\")\n",
    "\n",
    "    # Print each step's data\n",
    "    for idx, s in enumerate(steps):\n",
    "        step_diff = step[idx] - original_data\n",
    "        step_diff = (step_diff * mask).abs()\n",
    "        step_diff_1 = step_diff[n_th_stock, n_th_period, :][mask_1].sum().item()\n",
    "        mean_diff = step_diff[n_th_stock, n_th_period, :][mask_1].mean().item()\n",
    "        \n",
    "        print(f\"{format_list(step[idx][n_th_stock, n_th_period, :][mask_1])}\\tStep {s} (diff: {step_diff_1:.2f}) (mean diff: {mean_diff:.2f})\")\n",
    "\n",
    "    # Print original data\n",
    "    original_1 = original_data[n_th_stock, n_th_period, :][mask_1]\n",
    "    print(f\"{format_list(original_1)}\\tOriginal\")\n",
    "\n",
    "print_denoising_process(i=0, n_th_stock=0, n_th_period=0, steps=steps, print_n_values=5)"
   ],
   "outputs": [],
   "execution_count": null
  },
  {
   "cell_type": "code",
   "metadata": {},
   "source": [],
   "outputs": [],
   "execution_count": null
  }
 ],
 "metadata": {
  "kernelspec": {
   "display_name": "STDM-env",
   "language": "python",
   "name": "python3"
  },
  "language_info": {
   "codemirror_mode": {
    "name": "ipython",
    "version": 3
   },
   "file_extension": ".py",
   "mimetype": "text/x-python",
   "name": "python",
   "nbconvert_exporter": "python",
   "pygments_lexer": "ipython3",
   "version": "3.12.8"
  }
 },
 "nbformat": 4,
 "nbformat_minor": 2
}
