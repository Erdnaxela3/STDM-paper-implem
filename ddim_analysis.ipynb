{
 "cells": [
  {
   "cell_type": "code",
   "execution_count": 324,
   "metadata": {},
   "outputs": [],
   "source": [
    "import pandas as pd\n",
    "import torch\n",
    "import re\n",
    "import matplotlib.pyplot as plt\n",
    "import glob\n",
    "import numpy as np"
   ]
  },
  {
   "cell_type": "code",
   "execution_count": 325,
   "metadata": {},
   "outputs": [
    {
     "data": {
      "text/plain": [
       "[49, 37, 24, 12, 0]"
      ]
     },
     "execution_count": 325,
     "metadata": {},
     "output_type": "execute_result"
    }
   ],
   "source": [
    "analysis_dir = 'analysis'\n",
    "n = len(glob.glob(f'{analysis_dir}/artificial_mask_*.pt'))\n",
    "n_steps = len(glob.glob(f'{analysis_dir}/step_*.pt')) / n\n",
    "n_steps = int(n_steps)\n",
    "T = 50\n",
    "steps = torch.linspace(0, T - 1, n_steps).flip(0).round().long().tolist()\n",
    "steps"
   ]
  },
  {
   "cell_type": "code",
   "execution_count": 326,
   "metadata": {},
   "outputs": [
    {
     "name": "stdout",
     "output_type": "stream",
     "text": [
      "[-0.3808, 0.4165, -1.4355, 0.9311, 1.6929]\tFully noised (diff: 18.32)\n",
      "[-0.1159, -1.4257, -2.1859, 0.5554, -0.503]\tStep 49 (diff: 18.32) (mean diff: 1.22)\n",
      "[-0.4292, -0.0863, -2.4712, 1.181, 0.8853]\tStep 37 (diff: 23.51) (mean diff: 1.57)\n",
      "[0.3816, -0.6218, -1.1864, 0.6187, 0.8427]\tStep 24 (diff: 17.98) (mean diff: 1.20)\n",
      "[-0.1597, -0.0135, -0.1359, 0.5269, -0.1855]\tStep 12 (diff: 10.43) (mean diff: 0.70)\n",
      "[0.277, 0.1327, 0.1017, -0.6524, 0.4282]\tStep 0 (diff: 13.43) (mean diff: 0.90)\n",
      "[0.0446, -1.8615, -0.4812, -0.9304, -0.655]\tOriginal\n"
     ]
    }
   ],
   "source": [
    "def print_denoising_process(i: int, n_th_stock: int, n_th_period: int, steps: list[int], print_n_values: int = 10):\n",
    "    # Load tensors\n",
    "    mask = torch.load(f\"{analysis_dir}/artificial_mask_{i}.pt\", weights_only=False, map_location=\"cpu\")\n",
    "    fully_noise = torch.load(f\"{analysis_dir}/noised_{i}.pt\", weights_only=False, map_location=\"cpu\")\n",
    "    step = [\n",
    "        torch.load(f\"{analysis_dir}/step_{s}_{i}.pt\", weights_only=False, map_location=\"cpu\")\n",
    "        for s in steps\n",
    "    ]\n",
    "    original_data = torch.load(f\"{analysis_dir}/original_{i}.pt\", map_location=\"cpu\", weights_only=False)\n",
    "\n",
    "    # Extract relevant slices\n",
    "    mask_1 = mask[n_th_stock, n_th_period, :].bool()\n",
    "\n",
    "    def format_list(data):\n",
    "        return [float(f\"{x:.4f}\") for x in data[:print_n_values]]\n",
    "\n",
    "    # Print fully noised data\n",
    "    fully_noise_1 = fully_noise[n_th_stock, n_th_period, :][mask_1]\n",
    "    full_noise_diff = ((fully_noise - original_data) * mask)[n_th_stock, n_th_period, :][mask_1].abs().sum().item()\n",
    "    print(f\"{format_list(fully_noise_1)}\\tFully noised (diff: {full_noise_diff:.2f})\")\n",
    "\n",
    "    # Print each step's data\n",
    "    for idx, s in enumerate(steps):\n",
    "        step_diff = step[idx] - original_data\n",
    "        step_diff = (step_diff * mask).abs()\n",
    "        step_diff_1 = step_diff[n_th_stock, n_th_period, :][mask_1].sum().item()\n",
    "        mean_diff = step_diff[n_th_stock, n_th_period, :][mask_1].mean().item()\n",
    "        \n",
    "        print(f\"{format_list(step[idx][n_th_stock, n_th_period, :][mask_1])}\\tStep {s} (diff: {step_diff_1:.2f}) (mean diff: {mean_diff:.2f})\")\n",
    "\n",
    "    # Print original data\n",
    "    original_1 = original_data[n_th_stock, n_th_period, :][mask_1]\n",
    "    print(f\"{format_list(original_1)}\\tOriginal\")\n",
    "\n",
    "print_denoising_process(i=0, n_th_stock=0, n_th_period=0, steps=steps, print_n_values=5)"
   ]
  },
  {
   "cell_type": "code",
   "execution_count": null,
   "metadata": {},
   "outputs": [],
   "source": []
  }
 ],
 "metadata": {
  "kernelspec": {
   "display_name": "dnn",
   "language": "python",
   "name": "python3"
  },
  "language_info": {
   "codemirror_mode": {
    "name": "ipython",
    "version": 3
   },
   "file_extension": ".py",
   "mimetype": "text/x-python",
   "name": "python",
   "nbconvert_exporter": "python",
   "pygments_lexer": "ipython3",
   "version": "3.12.8"
  }
 },
 "nbformat": 4,
 "nbformat_minor": 2
}
